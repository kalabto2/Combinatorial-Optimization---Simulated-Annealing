{
 "cells": [
  {
   "cell_type": "markdown",
   "metadata": {},
   "source": [
    "# Problém batohu\n",
    "Základ problému\n",
    "Je dáno\n",
    "\n",
    "- celé číslo `n` (počet věcí)\n",
    "- celé číslo `M` (kapacita batohu)\n",
    "- konečná množina `V = {v1, v2, ... ,vn }` (hmotnosti věcí)\n",
    "- konečná množina `C = {c1, c2, ... ,cn }` (ceny věcí)"
   ]
  },
  {
   "cell_type": "code",
   "execution_count": 1,
   "metadata": {},
   "outputs": [],
   "source": [
    "import enum\n",
    "\n",
    "class Method(enum.Enum):\n",
    "    BF = 1    # Brute Force method\n",
    "    BAB = 2   # Branch and Bound method"
   ]
  },
  {
   "cell_type": "markdown",
   "metadata": {},
   "source": [
    "Definice Třídy Knapsack řešící problém a uchovávající výsledek"
   ]
  },
  {
   "cell_type": "code",
   "execution_count": 8,
   "metadata": {},
   "outputs": [],
   "source": [
    "class Knapsack:\n",
    "    def __init__(self, initString):\n",
    "        arr = initString.split()\n",
    "        decisionProblem = int(arr[0]) < 0\n",
    "        items = arr[4:] if decisionProblem else arr[3:]\n",
    "        \n",
    "        self.id = int(arr[0])\n",
    "        self.n = int(arr[1])\n",
    "        self.M = int(arr[2])\n",
    "        self.B = int(arr[3]) if decisionProblem else None\n",
    "        self.weights = list(map(lambda x: int(x), items[::2]))\n",
    "        self.prices = list(map(lambda x: int(x), items[1::2]))\n",
    "        self.solution = None\n",
    "        self.solutionPrice = None\n",
    "        self.decisionSolution = None\n",
    "        self.initString = initString\n",
    "        self.outputString = None\n",
    "        self.stepsToSolve = None\n",
    "        \n",
    "    def __str__ (self):\n",
    "        res = \"KNAPSACK \" + str(self.id) + \"\\n\"\n",
    "        res += \"-----------------------------------\" + \"\\n\"\n",
    "        res += \"n = \" + str(self.n) + \"\\tM = \" + str(self.M) + \"\\tB = \" + (str(self.B) if self.B else \"--\") + \"\\n\"\n",
    "        \n",
    "        for (i, x) in enumerate(self.weights):\n",
    "            res += \"#\" + str(i) + \"\\t\" + str(x) + \"\\t\" + str(self.prices[i]) + \"\\t\\t\" + (str(self.solution[i]) if self.solution is not None else \"\") + \"\\n\"\n",
    "        res += \"-----------------------------------\" + \"\\n\"\n",
    "        res += \"CONSTRUCTIVE PROBLEM SOLUTION:\\t\" + (str(self.solutionPrice) if self.solutionPrice is not None else \"--\") + \"\\n\"\n",
    "        res += \"DECISION PROBLEM SOLUTIONS:\\t#\" + (str(len(self.decisionSolution)) if self.decisionSolution is not None else \"--\") + \"\\n\"\n",
    "        res += \"-----------------------------------\" + \"\\n\"\n",
    "        \n",
    "        return res\n",
    "    \n",
    "    def createOutputString(self):\n",
    "        self.outputString = str(abs(self.id)) + \" \" + str(self.n) + \" \" + str(self.solutionPrice)\n",
    "        if len(self.solution) == 0:\n",
    "            self.solution = [0] * self.n\n",
    "        for s in self.solution:\n",
    "            self.outputString += \" \" + str(s)    \n",
    "    \n",
    "    def __repr__ (self):\n",
    "        return self.outputString if self.outputString is not None else \"--\"\n",
    "    \n",
    "    def getSolution(self):\n",
    "        return self.__repr__()\n",
    "    \n",
    "    def getStepsToSolve(self):\n",
    "        return self.stepsToSolve\n",
    "    \n",
    "    def getItemsInfo(self, arr):\n",
    "        finalWeight = 0\n",
    "        finalPrice = 0\n",
    "        \n",
    "        for (i, inKnapsack) in enumerate(arr):\n",
    "            finalWeight += self.weights[i] if inKnapsack else 0\n",
    "            finalPrice += self.prices[i] if inKnapsack else 0\n",
    "            \n",
    "        return (finalWeight, finalPrice)\n",
    "    \n",
    "    def solutionIsEmpty(self):\n",
    "        return len(self.decisionSolution) == 0\n",
    "    \n",
    "    def getB(self):\n",
    "        return self.B\n",
    "    \n",
    "    # Brute Force for constructive 0/1 problem\n",
    "    def bruteForceAux(self, W, wt, val, n):\n",
    "        # Base Case\n",
    "        if n == 0 or W == 0:\n",
    "            return (0, [])\n",
    "\n",
    "        if (wt[n-1] > W):\n",
    "            x = self.bruteForceAux(W, wt, val, n-1)\n",
    "            path = x[1]\n",
    "            path.append(0)\n",
    "            return (x[0], path)\n",
    "\n",
    "        else:\n",
    "            x = self.bruteForceAux(W-wt[n-1], wt, val, n-1)\n",
    "            y = self.bruteForceAux(W, wt, val, n-1)\n",
    "            if x[0] + val[n-1] > y[0]:\n",
    "                path = x[1]\n",
    "                path.append(1)\n",
    "                return (x[0] + val[n-1], path)\n",
    "            else:\n",
    "                path = y[1]\n",
    "                path.append(0)\n",
    "                return (y[0], path)\n",
    "    \n",
    "    def bruteForceSolve(self):\n",
    "        x =  self.bruteForceAux(self.M, self.weights, self.prices, self.n)\n",
    "        self.solution = x[1]\n",
    "        self.solutionPrice = x[0]\n",
    "        self.createOutputString()\n",
    "        return x\n",
    "    \n",
    "    # Brute Force for decision 0/1 problem\n",
    "    def decisionBruteForceSolve(self):\n",
    "        self.solutionPrice = 0\n",
    "        self.decisionSolution = []\n",
    "        self.stepsToSolve = 2**self.n\n",
    "        for i in range(2**self.n):\n",
    "            x = (\"{0:0\" + str(self.n) + \"b}\").format(i)\n",
    "            finalPrice = 0\n",
    "            finalWeight = 0\n",
    "            for (j, b) in enumerate(x):\n",
    "                if int(b):\n",
    "                    finalPrice += int(self.prices[j])\n",
    "                    finalWeight += int(self.weights[j])\n",
    "            if finalWeight <= self.M:\n",
    "                if finalPrice > self.solutionPrice:\n",
    "                    self.solutionPrice = finalPrice\n",
    "                    self.solution = list(x)\n",
    "                if finalPrice >= self.B:\n",
    "                    self.decisionSolution.append(list(x))\n",
    "        # no solution found\n",
    "        if self.solution is None:\n",
    "            self.solution = []\n",
    "        \n",
    "        self.createOutputString()\n",
    "        return self.decisionSolution\n",
    "    \n",
    "    # Branch and Bound method for constructive 0/1 problem\n",
    "    def decisionBabSolveAux(self, n, M, B, weights, prices, acc):\n",
    "        # stop conditions\n",
    "        if n == 0:\n",
    "            print(acc[::-1])\n",
    "            self.stepsToSolve += 1\n",
    "            if M >= 0 and B <= 0:\n",
    "                self.decisionSolution.append(acc[::-1])\n",
    "            return\n",
    "        \n",
    "        # following subtree won't satisfy price boundary \n",
    "        if sum(prices) < B:\n",
    "            return\n",
    "        \n",
    "        # item doesn't fit into knapsack\n",
    "        if (weights[n-1] > M):\n",
    "            self.decisionBabSolveAux(n - 1, M, B, weights[:n - 1], prices[:n - 1], acc + [0])\n",
    "            return\n",
    "        \n",
    "        # item fits in knapsack\n",
    "        else:\n",
    "            # item fits and is added into knapsack\n",
    "            self.decisionBabSolveAux(n - 1, M - weights[n - 1], B - prices[n - 1], weights[:n - 1], prices[:n - 1], acc + [1])\n",
    "            # item fits but isn't added into knapsack\n",
    "            self.decisionBabSolveAux(n - 1, M, B, weights[:n - 1], prices[:n - 1], acc + [0])\n",
    "    \n",
    "    def returnSecondEl(self, e):\n",
    "        return e[1]\n",
    "    \n",
    "    def decisionBabSolve(self):\n",
    "        self.decisionSolution = []\n",
    "        self.stepsToSolve = 0\n",
    "        self.decisionBabSolveAux(self.n, self.M, self.B, self.weights, self.prices, [])\n",
    "        \n",
    "        # find and save bestSolution (constructive problem)\n",
    "        maxPrice = 0\n",
    "        maxPriceIndex = -1       \n",
    "        for (i, sol) in enumerate(self.decisionSolution):\n",
    "            _, price = self.getItemsInfo(sol)\n",
    "            if price > maxPrice:\n",
    "                maxPrice = price\n",
    "                maxPriceIndex = i\n",
    "        \n",
    "        self.solution = [] if maxPriceIndex == -1 else self.decisionSolution[maxPriceIndex]\n",
    "        self.solutionPrice = maxPrice\n",
    "        \n",
    "        self.createOutputString()"
   ]
  },
  {
   "cell_type": "code",
   "execution_count": 3,
   "metadata": {},
   "outputs": [
    {
     "name": "stdout",
     "output_type": "stream",
     "text": [
      "ZR\n",
      "20 1141 13810\n",
      "50410\n",
      "NR\n",
      "20 1213 5042\n",
      "713996\n",
      "KNAPSACK -1\n",
      "-----------------------------------\n",
      "n = 20\tM = 1141\tB = 13810\n",
      "#0\t36\t574\t\t1\n",
      "#1\t1\t253\t\t1\n",
      "#2\t43\t636\t\t1\n",
      "#3\t113\t1266\t\t1\n",
      "#4\t202\t2068\t\t1\n",
      "#5\t10\t334\t\t1\n",
      "#6\t149\t1588\t\t0\n",
      "#7\t209\t2126\t\t0\n",
      "#8\t28\t495\t\t1\n",
      "#9\t65\t831\t\t1\n",
      "#10\t54\t736\t\t1\n",
      "#11\t74\t913\t\t1\n",
      "#12\t147\t1567\t\t0\n",
      "#13\t30\t520\t\t1\n",
      "#14\t151\t1603\t\t1\n",
      "#15\t61\t795\t\t1\n",
      "#16\t16\t386\t\t1\n",
      "#17\t142\t1528\t\t1\n",
      "#18\t214\t2176\t\t0\n",
      "#19\t115\t1278\t\t1\n",
      "-----------------------------------\n",
      "CONSTRUCTIVE PROBLEM SOLUTION:\t14216\n",
      "DECISION PROBLEM SOLUTIONS:\t#138\n",
      "-----------------------------------\n",
      "\n",
      "KNAPSACK -1\n",
      "-----------------------------------\n",
      "n = 20\tM = 1213\tB = 5042\n",
      "#0\t36\t3\t\t0\n",
      "#1\t43\t1129\t\t1\n",
      "#2\t202\t94\t\t0\n",
      "#3\t149\t2084\t\t1\n",
      "#4\t28\t646\t\t1\n",
      "#5\t54\t737\t\t1\n",
      "#6\t147\t300\t\t0\n",
      "#7\t151\t605\t\t1\n",
      "#8\t16\t1420\t\t1\n",
      "#9\t214\t1142\t\t0\n",
      "#10\t68\t2253\t\t1\n",
      "#11\t238\t1541\t\t1\n",
      "#12\t245\t1413\t\t0\n",
      "#13\t8\t221\t\t1\n",
      "#14\t7\t1939\t\t1\n",
      "#15\t137\t1284\t\t1\n",
      "#16\t165\t1174\t\t1\n",
      "#17\t183\t500\t\t0\n",
      "#18\t122\t1525\t\t1\n",
      "#19\t23\t1003\t\t1\n",
      "-----------------------------------\n",
      "CONSTRUCTIVE PROBLEM SOLUTION:\t17561\n",
      "DECISION PROBLEM SOLUTIONS:\t#625759\n",
      "-----------------------------------\n",
      "\n"
     ]
    }
   ],
   "source": [
    "k1 = Knapsack(\"-1 20 1141 13810 36 574 1 253 43 636 113 1266 202 2068 10 334 149 1588 209 2126 28 495 65 831 54 736 74 913 147 1567 30 520 151 1603 61 795 16 386 142 1528 214 2176 115 1278\")\n",
    "# k2 = Knapsack(\"-1 25 1577 6257 36 3 43 1129 202 94 149 2084 28 646 54 737 147 300 151 605 16 1420 214 1142 68 2253 238 1541 245 1413 8 221 7 1939 137 1284 165 1174 183 500 122 1525 23 1003 136 221 200 1755 127 741 173 80 165 2339\")\n",
    "k2 = Knapsack(\"-1 20 1213 5042 36 3 43 1129 202 94 149 2084 28 646 54 737 147 300 151 605 16 1420 214 1142 68 2253 238 1541 245 1413 8 221 7 1939 137 1284 165 1174 183 500 122 1525 23 1003\")\n",
    "print(\"ZR\")\n",
    "k1.decisionBabSolve()\n",
    "print(k1.getStepsToSolve())\n",
    "print(\"NR\")\n",
    "k2.decisionBabSolve()\n",
    "print(k2.getStepsToSolve())\n",
    "print(k1)\n",
    "print(k2)"
   ]
  },
  {
   "cell_type": "code",
   "execution_count": 9,
   "metadata": {},
   "outputs": [
    {
     "name": "stdout",
     "output_type": "stream",
     "text": [
      "ZR\n",
      "[0, 1, 0, 1]\n",
      "[0, 0, 0, 1]\n",
      "2\n",
      "NR\n",
      "[0, 1, 0, 0]\n",
      "1\n",
      "NR 2\n",
      "[0, 0, 1, 1]\n",
      "[1, 0, 0, 1]\n",
      "[0, 0, 0, 1]\n",
      "[0, 1, 1, 0]\n",
      "[1, 0, 1, 0]\n",
      "[0, 0, 1, 0]\n",
      "[0, 1, 0, 0]\n",
      "[1, 0, 0, 0]\n",
      "[0, 0, 0, 0]\n",
      "9\n"
     ]
    }
   ],
   "source": [
    "k3 = Knapsack(\"-1 4 123 1475 36 574 1 253 43 636 113 1266\")\n",
    "k4 = Knapsack(\"-1 4 46 324 36 3 43 1129 202 94 149 2084\")\n",
    "k5 = Knapsack(\"-2 4 131 7 65 540 74 1463 30 1503 61 151\")\n",
    "print(\"ZR\")\n",
    "k3.decisionBabSolve()\n",
    "print(k3.getStepsToSolve())\n",
    "print(\"NR\")\n",
    "k4.decisionBabSolve()\n",
    "print(k4.getStepsToSolve())\n",
    "print(\"NR 2\")\n",
    "k5.decisionBabSolve()\n",
    "print(k5.getStepsToSolve())"
   ]
  },
  {
   "cell_type": "markdown",
   "metadata": {},
   "source": [
    "Definice třídy InstanceManager, která spouští a kontroluje řešení jednotlivých instancí batohu pro určité *n*"
   ]
  },
  {
   "cell_type": "code",
   "execution_count": 3,
   "metadata": {},
   "outputs": [],
   "source": [
    "from statistics import mean\n",
    "\n",
    "class InstanceManager:\n",
    "    def __init__(self, stringInstances, stringInstancesSolutions):\n",
    "        self.instancesStrings = stringInstances.split(\"\\n\")[:-1] # last is empty line\n",
    "#         self.instances = []\n",
    "        self.instancesSolutions = []\n",
    "        for _ in range(500):\n",
    "            self.instancesSolutions.append([])\n",
    "        self.stepsOfInstances = None\n",
    "        \n",
    "        for solution in stringInstancesSolutions.split(\"\\n\")[:-1]:\n",
    "            idOfInstance = int(solution.split(' ')[0])\n",
    "            self.instancesSolutions[idOfInstance - 1].append(solution)\n",
    "        \n",
    "#         for instanceString in self.instancesStrings:\n",
    "#             self.instances.append(Knapsack(instanceString))\n",
    "            \n",
    "    def checkInstances(self, method):\n",
    "        fail = 0\n",
    "        self.stepsOfInstances = []\n",
    "        \n",
    "        for (i, instanceString) in enumerate(self.instancesStrings):\n",
    "            \n",
    "            inst = Knapsack(instanceString)\n",
    "            inst.decisionBruteForceSolve() if method == Method.BF else inst.decisionBabSolve()\n",
    "            self.stepsOfInstances.append(inst.getStepsToSolve())\n",
    "            \n",
    "            if (i + 1) % 10 == 0:\n",
    "                print(\"#{}\".format(i + 1), end=\", \")\n",
    "            \n",
    "            if inst.getSolution() not in self.instancesSolutions[i]:\n",
    "                correctConstructivePrice = int(self.instancesSolutions[i][0].split(' ')[2])\n",
    "                if inst.solutionIsEmpty() and correctConstructivePrice < inst.getB():\n",
    "                    continue\n",
    "                \n",
    "                fail += 1\n",
    "                print(\"\\nInstance is incorrect: Expected: \")\n",
    "                for i in self.instancesSolutions[i]:\n",
    "                    print(\"\\t\\t\\t\\t\" + i)\n",
    "                print(\"\\t\\t\\tGiven:   \" + inst.getSolution())\n",
    "        print(\"\\n\")\n",
    "        \n",
    "        if fail > 0:\n",
    "            print(\"FAILS: {}/{}\".format(str(fail), \"500\"))\n",
    "        else:\n",
    "            print(\"SUCCESS\")\n",
    "            \n",
    "        avgStep = mean(self.stepsOfInstances)\n",
    "        print(\"Average number of steps: {}\".format(round(avgStep,2)))\n",
    "        print(\"---------\")\n",
    "        return self.stepsOfInstances"
   ]
  },
  {
   "cell_type": "markdown",
   "metadata": {},
   "source": [
    "Definice třídy InstanceSetManager ,která řídí spouštění sad o různých velikostech *n*"
   ]
  },
  {
   "cell_type": "code",
   "execution_count": 4,
   "metadata": {},
   "outputs": [],
   "source": [
    "import os\n",
    "from pathlib import Path\n",
    "\n",
    "class InstanceSetManager:\n",
    "    def __init__ (self, pathToSet, setChar):\n",
    "        self.setChar = setChar\n",
    "        self.pathToSet = pathToSet\n",
    "        self.filesInDirectory = os.listdir(pathToSet)\n",
    "        self.ns = set()\n",
    "        for f in self.filesInDirectory:\n",
    "            n = f.replace(\"{}R\".format(setChar), \"\").replace(\"{}K\".format(setChar), \"\").replace(\"_inst.dat\", \"\").replace(\"_sol.dat\", \"\")\n",
    "            self.ns.add(int(n))\n",
    "            \n",
    "    def solve(self, method, maxN=22):\n",
    "        for n in sorted(self.ns):\n",
    "            if n > maxN:\n",
    "                break\n",
    "                \n",
    "            print(\"---------\")\n",
    "            print(\"INSTANCES n = {}\".format(str(n)))    \n",
    "            \n",
    "            instanceFile = self.setChar + \"R\" + str(n) + \"_inst.dat\"\n",
    "            solutionFile = self.setChar + \"K\" + str(n) + \"_sol.dat\"\n",
    "            \n",
    "            txt = Path(self.pathToSet + instanceFile).read_text()\n",
    "            txtSol = Path(self.pathToSet + solutionFile).read_text()\n",
    "            txtSol = txtSol.replace(\" \\n\", \"\\n\")\n",
    "            manager = InstanceManager(txt, txtSol)\n",
    "            \n",
    "            steps = manager.checkInstances(method)\n",
    "            f = open(\"results/{}R{}_{}.txt\".format(self.setChar, n, \"bb\" if method == Method.BAB else \"bf\"), \"w\")\n",
    "            nl = \"\\n\"\n",
    "            f.write(nl.join(map(lambda x: str(x), steps)) + \"\\n\")\n",
    "            f.close()\n",
    "            "
   ]
  },
  {
   "cell_type": "markdown",
   "metadata": {},
   "source": [
    "## Výpočet rozhodovacího problému batohu\n",
    "následující buňky počítají sady *NR* a *ZR* pomocí obou metod -- Hrubá síla a metoda větví a hranic"
   ]
  },
  {
   "cell_type": "code",
   "execution_count": null,
   "metadata": {},
   "outputs": [
    {
     "name": "stdout",
     "output_type": "stream",
     "text": [
      ">> ZK37_sol.dat\n",
      ">> ZR20_inst.dat\n",
      ">> ZK32_sol.dat\n",
      ">> ZK40_sol.dat\n",
      ">> ZR27_inst.dat\n",
      ">> ZR4_inst.dat\n",
      ">> ZK22_sol.dat\n",
      ">> ZK25_sol.dat\n",
      ">> ZR37_inst.dat\n",
      ">> ZK27_sol.dat\n",
      ">> ZR35_inst.dat\n",
      ">> ZR10_inst.dat\n",
      ">> ZR15_inst.dat\n",
      ">> ZK4_sol.dat\n",
      ">> ZK10_sol.dat\n",
      ">> ZR30_inst.dat\n",
      ">> ZK30_sol.dat\n",
      ">> ZR40_inst.dat\n",
      ">> ZR25_inst.dat\n",
      ">> ZR22_inst.dat\n",
      ">> ZK15_sol.dat\n",
      ">> ZK20_sol.dat\n",
      ">> ZR32_inst.dat\n",
      ">> ZK35_sol.dat\n",
      "---------\n",
      "INSTANCES n = 4\n",
      "#10, #20, #30, #40, #50, #60, #70, #80, #90, #100, #110, #120, #130, #140, #150, #160, #170, #180, #190, #200, #210, #220, #230, #240, #250, #260, #270, #280, #290, #300, #310, #320, #330, #340, #350, #360, #370, #380, #390, #400, #410, #420, #430, #440, #450, #460, #470, #480, #490, #500, \n",
      "\n",
      "SUCCESS\n",
      "Average number of steps: 3.16\n",
      "---------\n",
      "---------\n",
      "INSTANCES n = 10\n",
      "#10, #20, #30, #40, #50, #60, #70, #80, #90, #100, #110, #120, #130, #140, #150, #160, #170, #180, #190, #200, #210, #220, #230, #240, #250, #260, #270, #280, #290, #300, #310, #320, #330, #340, #350, #360, #370, #380, #390, #400, #410, #420, #430, #440, #450, #460, #470, #480, #490, #500, \n",
      "\n",
      "SUCCESS\n",
      "Average number of steps: 77.37\n",
      "---------\n",
      "---------\n",
      "INSTANCES n = 15\n",
      "#10, #20, #30, #40, #50, #60, #70, #80, #90, #100, #110, #120, #130, #140, #150, #160, #170, #180, #190, #200, #210, #220, #230, #240, #250, #260, #270, #280, #290, #300, #310, #320, #330, #340, #350, #360, #370, #380, #390, #400, #410, #420, #430, #440, \n",
      "Instance is incorrect: Expected: \n",
      "\t\t\t\t442 15 13346 0 1 1 1 1 1 1 0 1 1 1 1 1 0 0\n",
      "\t\t\tGiven:   442 15 13346 1 1 0 1 0 1 1 1 1 1 0 1 1 0 1\n",
      "#450, #460, #470, #480, #490, #500, \n",
      "\n",
      "FAILS: 1/500\n",
      "Average number of steps: 1288.95\n",
      "---------\n",
      "---------\n",
      "INSTANCES n = 20\n",
      "#10, #20, #30, #40, #50, #60, #70, #80, #90, #100, #110, #120, #130, #140, #150, #160, #170, #180, #190, #200, #210, #220, #230, #240, #250, #260, #270, #280, #290, #300, #310, #320, #330, #340, #350, #360, #370, #380, #390, #400, #410, #420, #430, #440, #450, #460, #470, #480, #490, #500, \n",
      "\n",
      "SUCCESS\n",
      "Average number of steps: 26976.58\n",
      "---------\n",
      "---------\n",
      "INSTANCES n = 22\n",
      "#10, #20, #30, #40, #50, #60, #70, #80, #90, #100, #110, #120, #130, #140, #150, #160, #170, #180, #190, #200, #210, #220, "
     ]
    }
   ],
   "source": [
    "a = InstanceSetManager(\"ZR/\", \"Z\")\n",
    "a.solve(Method.BAB)"
   ]
  },
  {
   "cell_type": "code",
   "execution_count": null,
   "metadata": {},
   "outputs": [],
   "source": [
    "b = InstanceSetManager(\"NR/\", \"N\")\n",
    "b.solve(Method.BAB)"
   ]
  },
  {
   "cell_type": "code",
   "execution_count": null,
   "metadata": {},
   "outputs": [],
   "source": [
    "c = InstanceSetManager(\"ZR/\", \"Z\")\n",
    "c.solve(Method.BF, 10)"
   ]
  },
  {
   "cell_type": "code",
   "execution_count": null,
   "metadata": {},
   "outputs": [],
   "source": [
    "d = InstanceSetManager(\"NR/\", \"N\")\n",
    "d.solve(Method.BF, 10)"
   ]
  },
  {
   "cell_type": "markdown",
   "metadata": {},
   "source": [
    "## Analýza\n",
    "následující buňka zadefinuje analyzátor uložených dat a v dalších buňkách je spuštěna samotná analýza"
   ]
  },
  {
   "cell_type": "code",
   "execution_count": 5,
   "metadata": {},
   "outputs": [],
   "source": [
    "import statistics\n",
    "import matplotlib.pyplot as plt \n",
    "import numpy as np\n",
    "\n",
    "class Analyzer:\n",
    "    def __init__(self):\n",
    "        self.directory = \"results/\"\n",
    "        self.filesInDirectory = os.listdir(self.directory)\n",
    "        self.NRresultsBF = set()\n",
    "        self.NRresultsBB = set()\n",
    "        self.ZRresultsBB = set()\n",
    "        self.ZRresultsBF = set()\n",
    "        \n",
    "        for file in self.filesInDirectory:\n",
    "            if file[0] == 'N':\n",
    "                if \"bf\" in file:\n",
    "                    self.NRresultsBF.add(file)\n",
    "                else:\n",
    "                    self.NRresultsBB.add(file)\n",
    "            else:\n",
    "                if \"bf\" in file:\n",
    "                    self.ZRresultsBF.add(file)\n",
    "                else:\n",
    "                    self.ZRresultsBB.add(file)            \n",
    "    \n",
    "    # from https://realpython.com/python-histograms/\n",
    "    def getStats(self, content, printChart=False):\n",
    "        data = content.split(\"\\n\")[:-1]\n",
    "        data = list(map(lambda x: int(x), data))\n",
    "        mean = round(statistics.mean(data), 3)\n",
    "        variance = round(statistics.variance(data), 3)\n",
    "        maximum = max(data)\n",
    "        minimum = min(data)\n",
    "        print(\"\\tmean={}\\n\\tvar={}\\n\\tmax={}\\n\\tmin={}\".format(str(mean), str(variance), str(maximum), str(minimum)))\n",
    "        \n",
    "        if printChart:\n",
    "            # An \"interface\" to matplotlib.axes.Axes.hist() method\n",
    "            n, bins, patches = plt.hist(x=data, bins='auto', color='#0504aa', alpha=0.7, rwidth=0.85)\n",
    "            plt.grid(axis='y', alpha=0.75)\n",
    "            plt.xlabel('# of operations')\n",
    "            plt.ylabel('Frequency')\n",
    "            plt.title('Distribution of # of operations')\n",
    "            maxfreq = n.max()\n",
    "            # Set a clean upper y-axis limit.\n",
    "            plt.ylim(ymax=np.ceil(maxfreq / 10) * 10 if maxfreq % 10 else maxfreq + 10)\n",
    "            plt.show()\n",
    "        \n",
    "        return [mean, variance, maximum, minimum]\n",
    "            \n",
    "    def analyze(self, instSet, minN=0, maxN=40):\n",
    "        if instSet != 'NR' and instSet != 'ZR':\n",
    "            print(\"Bad input\")\n",
    "            return\n",
    "        \n",
    "        meanBF = []\n",
    "        varianceBF = []\n",
    "        maximumBF = []\n",
    "        minimumBF = []\n",
    "        nsBF = []\n",
    "        \n",
    "        print(\"Brute Force\")\n",
    "        print(\"---------------\")\n",
    "        for file in (self.NRresultsBF if instSet == \"NR\" else self.ZRresultsBF):\n",
    "            print(file)\n",
    "            n = int(file.replace(instSet, \"\").replace(\"_bf.txt\", \"\"))\n",
    "            nsBF.append(n)\n",
    "            \n",
    "            f = open(self.directory + file, \"r\")\n",
    "            x = f.read()\n",
    "            [mean, variance, maximum, minimum] = self.getStats(x, False)\n",
    "            meanBF.append(mean)\n",
    "            varianceBF.append(variance)\n",
    "            maximumBF.append(maximum)\n",
    "            minimumBF.append(minimum)\n",
    "            f.close()\n",
    "            \n",
    "        meanBB = []\n",
    "        varianceBB = []\n",
    "        maximumBB = []\n",
    "        minimumBB = []\n",
    "        nsBB = []\n",
    "        \n",
    "        print(\"\\nBranch & Bound\")\n",
    "        print(\"---------------\")\n",
    "        for file in (self.NRresultsBB if instSet == \"NR\" else self.ZRresultsBB):\n",
    "            print(file)\n",
    "            n = int(file.replace(instSet, \"\").replace(\"_bb.txt\", \"\"))\n",
    "            nsBB.append(n)\n",
    "            \n",
    "            f = open(self.directory + file, \"r\")\n",
    "            x = f.read()\n",
    "            [mean, variance, maximum, minimum] = self.getStats(x, True)\n",
    "            meanBB.append(mean)\n",
    "            varianceBB.append(variance)\n",
    "            maximumBB.append(maximum)\n",
    "            minimumBB.append(minimum)\n",
    "            f.close()\n",
    "        \n",
    "        meanBF.sort()\n",
    "        meanBB.sort()\n",
    "        nsBB.sort()\n",
    "        labels = nsBB\n",
    "        plt.bar(np.arange(len(nsBF)), meanBF, width=0.3)    \n",
    "        plt.bar(np.arange(len(nsBB))+ 0.3, meanBB, width=0.3)\n",
    "        plt.xticks(range(len(nsBB)), labels)\n",
    "        plt.xlabel('n')\n",
    "        plt.ylabel('# operations')\n",
    "        plt.title('{} set'.format(instSet))\n",
    "        plt.legend(['Brute Force', 'B&B'])\n",
    "        plt.yscale(\"log\")\n",
    "        plt.show()\n",
    "        "
   ]
  },
  {
   "cell_type": "code",
   "execution_count": 6,
   "metadata": {},
   "outputs": [
    {
     "name": "stdout",
     "output_type": "stream",
     "text": [
      "Brute Force\n",
      "---------------\n",
      "ZR10_bf.txt\n",
      "\tmean=1024\n",
      "\tvar=0\n",
      "\tmax=1024\n",
      "\tmin=1024\n",
      "ZR4_bf.txt\n",
      "\tmean=16\n",
      "\tvar=0\n",
      "\tmax=16\n",
      "\tmin=16\n",
      "\n",
      "Branch & Bound\n",
      "---------------\n",
      "ZR22_bb.txt\n",
      "\tmean=82840.82\n",
      "\tvar=7176025440.697\n",
      "\tmax=350659\n",
      "\tmin=0\n"
     ]
    },
    {
     "data": {
      "image/png": "[encoded data removed]",
      "text/plain": [
       "<Figure size 432x288 with 1 Axes>"
      ]
     },
     "metadata": {
      "needs_background": "light"
     },
     "output_type": "display_data"
    },
    {
     "name": "stdout",
     "output_type": "stream",
     "text": [
      "ZR4_bb.txt\n",
      "\tmean=3.16\n",
      "\tvar=3.493\n",
      "\tmax=8\n",
      "\tmin=0\n"
     ]
    },
    {
     "data": {
      "image/png": "[encoded data removed]",
      "text/plain": [
       "<Figure size 432x288 with 1 Axes>"
      ]
     },
     "metadata": {
      "needs_background": "light"
     },
     "output_type": "display_data"
    },
    {
     "name": "stdout",
     "output_type": "stream",
     "text": [
      "ZR20_bb.txt\n",
      "\tmean=26976.58\n",
      "\tvar=590166771.006\n",
      "\tmax=98689\n",
      "\tmin=0\n"
     ]
    },
    {
     "data": {
      "image/png": "[encoded data removed]",
      "text/plain": [
       "<Figure size 432x288 with 1 Axes>"
      ]
     },
     "metadata": {
      "needs_background": "light"
     },
     "output_type": "display_data"
    },
    {
     "name": "stdout",
     "output_type": "stream",
     "text": [
      "ZR15_bb.txt\n",
      "\tmean=1288.946\n",
      "\tvar=1119313.366\n",
      "\tmax=4271\n",
      "\tmin=0\n"
     ]
    },
    {
     "data": {
      "image/png": "[encoded data removed]",
      "text/plain": [
       "<Figure size 432x288 with 1 Axes>"
      ]
     },
     "metadata": {
      "needs_background": "light"
     },
     "output_type": "display_data"
    },
    {
     "name": "stdout",
     "output_type": "stream",
     "text": [
      "ZR25_bb.txt\n",
      "\tmean=5114202.786\n",
      "\tvar=6665074226251.223\n",
      "\tmax=13139603\n",
      "\tmin=483104\n"
     ]
    },
    {
     "data": {
      "image/png": "[encoded data removed]",
      "text/plain": [
       "<Figure size 432x288 with 1 Axes>"
      ]
     },
     "metadata": {
      "needs_background": "light"
     },
     "output_type": "display_data"
    },
    {
     "name": "stdout",
     "output_type": "stream",
     "text": [
      "ZR10_bb.txt\n",
      "\tmean=77.368\n",
      "\tvar=2452.061\n",
      "\tmax=205\n",
      "\tmin=0\n"
     ]
    },
    {
     "data": {
      "image/png": "[encoded data removed]",
      "text/plain": [
       "<Figure size 432x288 with 1 Axes>"
      ]
     },
     "metadata": {
      "needs_background": "light"
     },
     "output_type": "display_data"
    },
    {
     "data": {
      "image/png": "[encoded data removed]",
      "text/plain": [
       "<Figure size 432x288 with 1 Axes>"
      ]
     },
     "metadata": {
      "needs_background": "light"
     },
     "output_type": "display_data"
    },
    {
     "name": "stdout",
     "output_type": "stream",
     "text": [
      "Brute Force\n",
      "---------------\n",
      "NR4_bf.txt\n",
      "\tmean=16\n",
      "\tvar=0\n",
      "\tmax=16\n",
      "\tmin=16\n",
      "NR10_bf.txt\n",
      "\tmean=1024\n",
      "\tvar=0\n",
      "\tmax=1024\n",
      "\tmin=1024\n",
      "\n",
      "Branch & Bound\n",
      "---------------\n",
      "NR4_bb.txt\n",
      "\tmean=3.066\n",
      "\tvar=14.579\n",
      "\tmax=15\n",
      "\tmin=0\n"
     ]
    },
    {
     "data": {
      "image/png": "[encoded data removed]",
      "text/plain": [
       "<Figure size 432x288 with 1 Axes>"
      ]
     },
     "metadata": {
      "needs_background": "light"
     },
     "output_type": "display_data"
    },
    {
     "name": "stdout",
     "output_type": "stream",
     "text": [
      "NR22_bb.txt\n",
      "\tmean=652626.246\n",
      "\tvar=1641210048085.881\n",
      "\tmax=4194267\n",
      "\tmin=0\n"
     ]
    },
    {
     "data": {
      "image/png": "[encoded data removed]",
      "text/plain": [
       "<Figure size 432x288 with 1 Axes>"
      ]
     },
     "metadata": {
      "needs_background": "light"
     },
     "output_type": "display_data"
    },
    {
     "name": "stdout",
     "output_type": "stream",
     "text": [
      "NR20_bb.txt\n",
      "\tmean=154225.908\n",
      "\tvar=91855449087.711\n",
      "\tmax=1048519\n",
      "\tmin=0\n"
     ]
    },
    {
     "data": {
      "image/png": "[encoded data removed]",
      "text/plain": [
       "<Figure size 432x288 with 1 Axes>"
      ]
     },
     "metadata": {
      "needs_background": "light"
     },
     "output_type": "display_data"
    },
    {
     "name": "stdout",
     "output_type": "stream",
     "text": [
      "NR15_bb.txt\n",
      "\tmean=4412.048\n",
      "\tvar=75361912.326\n",
      "\tmax=32746\n",
      "\tmin=0\n"
     ]
    },
    {
     "data": {
      "image/png": "[encoded data removed]",
      "text/plain": [
       "<Figure size 432x288 with 1 Axes>"
      ]
     },
     "metadata": {
      "needs_background": "light"
     },
     "output_type": "display_data"
    },
    {
     "name": "stdout",
     "output_type": "stream",
     "text": [
      "NR10_bb.txt\n",
      "\tmean=136.6\n",
      "\tvar=65915.996\n",
      "\tmax=1010\n",
      "\tmin=0\n"
     ]
    },
    {
     "data": {
      "image/png": "[encoded data removed]",
      "text/plain": [
       "<Figure size 432x288 with 1 Axes>"
      ]
     },
     "metadata": {
      "needs_background": "light"
     },
     "output_type": "display_data"
    },
    {
     "data": {
      "image/png": "[encoded data removed]",
      "text/plain": [
       "<Figure size 432x288 with 1 Axes>"
      ]
     },
     "metadata": {
      "needs_background": "light"
     },
     "output_type": "display_data"
    }
   ],
   "source": [
    "a = Analyzer()\n",
    "a.analyze(\"ZR\")\n",
    "a.analyze(\"NR\")"
   ]
  },
  {
   "cell_type": "code",
   "execution_count": null,
   "metadata": {},
   "outputs": [],
   "source": []
  }
 ],
 "metadata": {
  "kernelspec": {
   "display_name": "Python 3 (ipykernel)",
   "language": "python",
   "name": "python3"
  },
  "language_info": {
   "codemirror_mode": {
    "name": "ipython",
    "version": 3
   },
   "file_extension": ".py",
   "mimetype": "text/x-python",
   "name": "python",
   "nbconvert_exporter": "python",
   "pygments_lexer": "ipython3",
   "version": "3.9.7"
  }
 },
 "nbformat": 4,
 "nbformat_minor": 2
}
